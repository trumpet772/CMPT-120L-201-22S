{
 "cells": [
  {
   "cell_type": "markdown",
   "metadata": {},
   "source": [
    "# Introduction to Programming\n",
    "\n",
    "Topics for today will include:\n",
    "- Variables(Assignment Statements) \n",
    "- Simple Input\n",
    "- Values & Types\n",
    "- Type Conversion\n",
    "- Arithmetic\n",
    "\n",
    "## Variables (Assignment Statements)\n",
    "---\n",
    "Variables are going to be our bread and butter in a lot of scenarios. Similar to in math Variables can hold significant information.\n",
    "\n",
    "Also similar to using them in math, the name of the variable goes on the left and then there's an assign statement which is `=`, then on the right side of the variable comes what the variable is supposed to represent. What's different is that our variables in the programming world can hold much more than numbers.\n",
    "\n",
    "_*It's super important that you remember that the assign symbol is a SINGLE `=`, as we move on there will be other symbols that use more than one equals signs or a combination of symbols_\n",
    "\n",
    "So to do something like this we'd just use what we've discussed up to this point. We need a variable name on the left. Then an expression on the right. \n",
    "`variable = \"Some value\"`\n",
    "\n",
    "Knowing how to do this is crutial.\n",
    "\n",
    "Below is an example:"
   ]
  },
  {
   "cell_type": "code",
   "execution_count": 4,
   "metadata": {
    "tags": []
   },
   "outputs": [
    {
     "name": "stdout",
     "output_type": "stream",
     "text": [
      "Aaron Michael Kippins\n",
      "['Jack', 26]\n"
     ]
    }
   ],
   "source": [
    "# Strings\n",
    "greeting = \"Hello Class\"\n",
    "name = \"Aaron Kippins\"\n",
    "name = 'Aaron Michael Kippins'\n",
    "age_as_string = \"26\"\n",
    "\n",
    "# Integers(Numbers), Longs\n",
    "class_count = 32\n",
    "age = 26\n",
    "\n",
    "# Floats, Doubles\n",
    "weight = 255.5\n",
    "\n",
    "# Booleans\n",
    "is_married = False\n",
    "\n",
    "# Lists\n",
    "empty_list = []\n",
    "arr = [\"Jack\", \"Jill\"]\n",
    "\n",
    "names_count = len(arr)\n",
    "aaron_count = len(name)\n",
    "print(name)\n",
    "# print(aaron_count)"
   ]
  },
  {
   "cell_type": "markdown",
   "metadata": {},
   "source": [
    "We will use variables often so getting comfortable with using them would be wise. Next up we can talk about getting some input from a user."
   ]
  },
  {
   "cell_type": "markdown",
   "metadata": {},
   "source": [
    "## Simple Input\n",
    "---\n",
    "We'll often want to take in input from the user. This is done fairly simply in a basic sense. There are more complex and intricate ways to do this as well. Those will be discussed at a different time. \n",
    "\n",
    "Why this is important right now is because we need to remember that a user will have to interact with what we're doing in some way shape or form. In most instances we can simulate this but for the purpose of transparancy we'll go over it.\n",
    "\n",
    "For now we can use the scenario of looking to take in the users name. To do this in a simple way we can use the `input()` function. Now we haven't discussed functions at length yet but we'll get there. \n",
    "\n",
    "For now what we need to know is that input can take in a `string` and that string can be what question that we want to ask the user. That can come in the form like so.\n",
    "```\n",
    "input('Hey there, what is your name?')\n",
    "```"
   ]
  },
  {
   "cell_type": "code",
   "execution_count": 6,
   "metadata": {
    "tags": []
   },
   "outputs": [
    {
     "name": "stdout",
     "output_type": "stream",
     "text": [
      "dasdfas\n"
     ]
    }
   ],
   "source": [
    "class_name = input(\"What's the name of the class we're in?\")\n",
    "print(class_name)"
   ]
  },
  {
   "cell_type": "markdown",
   "metadata": {},
   "source": [
    "## Values and Types\n",
    "---\n",
    "This section is going to revisit something that we saw above. So i went through a bunch of ways to define different variables above. There are a bunch of different data types and those data types have built in functions that are available to them. \n",
    "\n",
    "### Strings\n",
    "---\n",
    "Strings are our primary ways to send messages. Started with either `'' or \"\"` quotes surround strings and they can't be mismatched. There are instances where you need to use quotes inside of quotes and that's done using an escape character. That escape character is `\\`. Now if you open with one the other can be use freely. For example:\n",
    "```Python\n",
    "'This is a string.'\n",
    "\"This is also a string.\"\n",
    "'She said, \"This is a string\"'\n",
    "\"That's a nice string that you have there.\n",
    "'That\\'s fine'\n",
    "```\n",
    "These are all valid strings.\n",
    "\n",
    "### Integers(Numbers) & Longs\n",
    "---\n",
    "Integers are our prime representation of numbers. These are fairly simple and are probably the easiest to pickup. The difference between Integers and Longs in a simplistic sense is that ints are only numbers that persist under the possible numbers in the range from `-2^31 - 2^31` so about negative 2 billion to positive 2 billion. Longs are numbers outside that range. So that'd be `-2^63 - 2^63`. This isn't something that you have to handle in Python but is good to know about. \n",
    "```\n",
    "256 spaces in a byte\n",
    "\n",
    "255\n",
    "0000 0000 \n",
    "\n",
    "-128 - 127\n",
    "\n",
    "Two Complement\n",
    "Get number you wanna make negative into binary\n",
    "0101 0000\n",
    "\n",
    "Flip the bits\n",
    "1010 1111\n",
    "\n",
    "1010 1111\n",
    "+       1\n",
    "---------\n",
    "1011 0000 (-128 + 0 + 32 + 16) (-128 + 48) (-80) \n",
    "\n",
    "Add 1 and this is your negative number\n",
    "1011 0000\n",
    "\n",
    "if starts with 0 is a positive number\n",
    "if starts with 1 is a negative number\n",
    "\n",
    "\n",
    "0000 0000 0000 0000 0000 0000 0000 0000\n",
    "\n",
    "0000 0000 0000 0000 0000 0000 0000 0000 0000 0000 0000 0000 0000 0000 0000 0000\n",
    "\n",
    "x = 2m......\n",
    "tmp = 2m... + 123123\n",
    "x = 2m... + 123123\n",
    "\n",
    "\n",
    "10\n",
    "2020\n",
    "1000000001\n",
    "```\n",
    "These are all examples of valid numbers. \n",
    "\n",
    "### Floats & Doubles \n",
    "---\n",
    "Floats and Doubles are just ways to represent decimals. They have the same trope as the integers and the longs. 32bit vs 64bit. This is one of the main key differences between Python 2 and 3. Python 3, which we're using alleviates confusion and decided that if two ints(integers) are divided and there's a remainder it gets resolved and turns into a float.\n",
    "```\n",
    "0.1\n",
    "0.123\n",
    "0.123456789\n",
    ".5\n",
    "1.1\n",
    "```\n",
    "\n",
    "\n",
    "### Booleans\n",
    "---\n",
    "Booleans kinda equate down to our bit representation of things where something is either 0 or 1, true or false, is or isn't. \n",
    "0 or 1\n",
    "\n",
    "```\n",
    "True\n",
    "False\n",
    "```\n",
    "\n",
    "\n",
    "### Lists\n",
    "---\n",
    "Lists are something that we'll eventually use a lot to store things. Lists are just a grouped set of a data type.\n",
    "\n",
    "This means that we can have lists of different data types. WE DON'T WANNA MIX TYPES THOUGH!\n",
    "\n",
    "A list is defined with `[]`\n",
    "```\n",
    "[\"Jesse\", \"Samantha\", \"Thomas\", \"Jessica\", \"Sarah\"]\n",
    "[1, 2, 3, 4, 5, 6, 7, 8, 9, 10]\n",
    "[True, False, False, False, True]\n",
    "```\n"
   ]
  },
  {
   "cell_type": "code",
   "execution_count": 22,
   "metadata": {
    "tags": []
   },
   "outputs": [
    {
     "name": "stdout",
     "output_type": "stream",
     "text": [
      "True\n",
      "False\n",
      "That's fine... \n",
      "\n",
      "\n",
      "I guess...\n",
      "He said, \"I don't wanna go to class...\"\n",
      "The type of greeting is  <class 'str'>\n",
      "The type of age is  <class 'int'>\n",
      "The type of height is  <class 'float'>\n",
      "The type of is_married is  <class 'bool'>\n",
      "[1, 2, 3, 4]\n",
      "['a', 'b', 'c']\n"
     ]
    }
   ],
   "source": [
    "\"\"\"\n",
    "a message\n",
    "\"\"\"\n",
    "'''\n",
    "a different message\n",
    "'''\n",
    "\n",
    "# Variable example goes here. \n",
    "# Strings\n",
    "greeting = 'Hello Class'\n",
    "backslash = 'That\\'s fine... \\n\\n\\nI guess...'\n",
    "double = \"He said, \\\"I don't wanna go to class...\\\"\"\n",
    "# Integers(Numbers), Longs\n",
    "age = 2147483650\n",
    "# Floats, Doubles\n",
    "height = 69.3\n",
    "# Booleans\n",
    "is_hungry = False\n",
    "has_eaten_lunch = False\n",
    "is_light_on = False\n",
    "is_married = False\n",
    "# Lists\n",
    "numbers = [1,2,3,4]\n",
    "letters = [\"a\",\"b\",\"c\"]\n",
    "\n",
    "\n",
    "\n",
    "if has_eaten_lunch:\n",
    "    is_hungry = False\n",
    "else:\n",
    "    is_hungry = True\n",
    "print(is_hungry)\n",
    "print(not not is_light_on)\n",
    "print(backslash)\n",
    "print(double)\n",
    "print(\"The type of greeting is \", type(greeting))\n",
    "print(\"The type of age is \", type(age))\n",
    "print(\"The type of height is \", type(height))\n",
    "print(\"The type of is_married is \", type(is_married))\n",
    "\n",
    "print(numbers)\n",
    "print(letters)"
   ]
  },
  {
   "cell_type": "markdown",
   "metadata": {},
   "source": [
    "## Type Conversion\n",
    "---\n",
    "Now we can in certain instances turn things of one type into things of another type.\n",
    "\n",
    "We can turn strings into numbers and vice versa. Floats into ints, ints into floats. This proves to be useful in cases that we get something as the wrong type. We can also use this in a preventative measure. Such as in cases where we know that we need things to come in as a certain type. "
   ]
  },
  {
   "cell_type": "code",
   "execution_count": 1,
   "metadata": {
    "tags": []
   },
   "outputs": [
    {
     "name": "stdout",
     "output_type": "stream",
     "text": [
      "<class 'str'>\n",
      "20\n",
      "True\n",
      "<class 'int'>\n",
      "20\n",
      "<class 'float'>\n",
      "20.0\n",
      "<class 'bool'>\n",
      "True\n"
     ]
    }
   ],
   "source": [
    "# print(age_as_string)\n",
    "# print(type(age_as_string))\n",
    "# print(int(age_as_string))\n",
    "# print(type(int(age_as_string)))\n",
    "# str()\n",
    "# int()\n",
    "# float()\n",
    "# bool()\n",
    "age = input(\"What is your age?\")\n",
    "print(type(age))\n",
    "print(age)\n",
    "print(isinstance(age, str))\n",
    "age = int(age)\n",
    "print(type(age))\n",
    "print(age)\n",
    "age = float(age)\n",
    "print(type(age))\n",
    "print(age)\n",
    "age = bool(age)\n",
    "print(type(age))\n",
    "print(age)"
   ]
  },
  {
   "cell_type": "markdown",
   "metadata": {},
   "source": [
    "## Arithmetic\n",
    "---\n",
    "\n",
    "This is self explanitory, arithmetic works how we'd expect it to in most cases. \n",
    "\n",
    "The only new thing that we have here is `%` in programming this is known as the modulo operator. This will divide the two numbers given and return the remainder. This is used in instances were you need to get every nth something or in scenarios where you need evens or odds. There are other scenarios where it can be used but these are basic ones. "
   ]
  },
  {
   "cell_type": "code",
   "execution_count": 14,
   "metadata": {
    "tags": []
   },
   "outputs": [
    {
     "name": "stdout",
     "output_type": "stream",
     "text": [
      "12\n",
      "-2\n",
      "0.7142857142857143\n",
      "35\n",
      "2\n",
      "78125\n",
      "2.0\n",
      "82 is an even number\n",
      "House party it is.\n",
      "We can buy a nintendo switch\n",
      "I'll borrow money from a friend\n"
     ]
    }
   ],
   "source": [
    "input1 = 5\n",
    "input2 = 7\n",
    "\n",
    "# Addition \n",
    "print(input1 + input2)\n",
    "# Subtraction\n",
    "print(input1 - input2)\n",
    "# Division\n",
    "print(input1 / input2)\n",
    "# Multiplication\n",
    "print(input1 * input2)\n",
    "# Modulo\n",
    "print(input2 % input1)\n",
    "# Exponents\n",
    "print(input1 ** input2)\n",
    "# Exponents\n",
    "input1 = 4\n",
    "input2 = .5\n",
    "print(input1 ** input2)\n",
    "\n",
    "\n",
    "if 82 % 2 == 0:\n",
    "    print(\"82 is an even number\")\n",
    "\n",
    "if age > 21:\n",
    "    print(\"We can go to the bar\")\n",
    "else: \n",
    "    print(\"House party it is.\")\n",
    "\n",
    "monies = 360\n",
    "can_borrow = True\n",
    "\n",
    "if monies > 300:\n",
    "    print(\"We can buy a nintendo switch\")\n",
    "if can_borrow: \n",
    "    print(\"I'll borrow money from a friend\")\n",
    "else: \n",
    "    print(\"Well darn\")"
   ]
  },
  {
   "cell_type": "markdown",
   "metadata": {},
   "source": [
    "\n",
    "\n",
    "## Due Next Week\n",
    "---\n",
    "- Lab 2"
   ]
  }
 ],
 "metadata": {
  "kernelspec": {
   "display_name": "Python 3.9.0 64-bit ('3.9.0': pyenv)",
   "metadata": {
    "interpreter": {
     "hash": "7aab79e3e76a264c6abda742106754ed901bc46a10cabaee4e0b7d64e4dbbe7f"
    }
   },
   "name": "python3"
  },
  "language_info": {
   "codemirror_mode": {
    "name": "ipython",
    "version": 3
   },
   "file_extension": ".py",
   "mimetype": "text/x-python",
   "name": "python",
   "nbconvert_exporter": "python",
   "pygments_lexer": "ipython3",
   "version": "3.10.2"
  },
  "orig_nbformat": 2
 },
 "nbformat": 4,
 "nbformat_minor": 2
}
